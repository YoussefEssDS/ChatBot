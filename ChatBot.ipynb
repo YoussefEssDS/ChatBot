{
 "cells": [
  {
   "cell_type": "markdown",
   "metadata": {},
   "source": [
    "### Intro: \n",
    "\n",
    "Through this tutorial we will implement a Deep NLP ChatBot using Tensorflow. So without further a do let's get right into it.\n",
    "\n",
    "We'll start by importing the libraries needed for this project."
   ]
  },
  {
   "cell_type": "code",
   "execution_count": 178,
   "metadata": {},
   "outputs": [],
   "source": [
    "import numpy as np \n",
    "import tensorflow as tf\n",
    "import re #Helps with data preprocessing\n",
    "import time\n",
    "import datetime"
   ]
  },
  {
   "cell_type": "markdown",
   "metadata": {},
   "source": [
    "The dataset used for the training of this ChatBot are taking from: \n",
    "\n",
    "https://www.cs.cornell.edu/~cristian/Cornell_Movie-Dialogs_Corpus.html\n",
    "\n",
    "This dataset is called Cornell Movie--Dialogs Corpus, and it contains conversations between actors from a large number of movies, so the type of our ChatBot would be a friend-like ChatBot (able to do casual conversations), for more field specific ChatBots we can use other kind of datasets. Anyway, for further informations about the data used you can look at the link above.\n",
    "\n",
    "It's important to know that the dataset used is composed of 2 text files: \"movie_lines.txt\" and \"movie_conversations.txt\". The first contains the lines from different movies in an unorderly fashion, but these lines have IDs, these IDs are used in the second file to identify the lines that correspond to a certain conversation, so the second file works as a way to order the line fro first file. "
   ]
  },
  {
   "cell_type": "markdown",
   "metadata": {},
   "source": [
    "# I. Data preprocesing: \n",
    "\n",
    "Generally, this is the longest part of each project, in which we will make the data ready for input into the deep learning model. Luckily the er library is here to carry some load of this phase. Let's begin:"
   ]
  },
  {
   "cell_type": "code",
   "execution_count": 11,
   "metadata": {},
   "outputs": [],
   "source": [
    "# Loading data: We will load both the lines and conversations\n",
    "\n",
    "with open(\"C:/Users/YsfEss/Desktop/data/movie_lines.txt\",encoding='utf-8',errors='ignore') as f1:\n",
    "    lines=f1.read().split('\\n') #304714 lines\n",
    "with open(\"C:/Users/YsfEss/Desktop/data/movie_conversations.txt\",encoding='utf-8',errors='ignore') as f2:\n",
    "    convos=f2.read().split('\\n')"
   ]
  },
  {
   "cell_type": "code",
   "execution_count": 47,
   "metadata": {},
   "outputs": [],
   "source": [
    "# Now let's create a dictionary that maps each line with its ID.\n",
    "id2line={}\n",
    "\n",
    "for line in lines:\n",
    "    spl=line.split(' +++$+++ ')\n",
    "    if len(spl)==5:\n",
    "        id2line[spl[0]]=spl[-1]"
   ]
  },
  {
   "cell_type": "code",
   "execution_count": 48,
   "metadata": {},
   "outputs": [],
   "source": [
    "# We will now create a list of conversations. \n",
    "\n",
    "convoli= []\n",
    "\n",
    "for conv in convos[:-1]: #The last row of this list is empty\n",
    "    spl=conv.split(' +++$+++ ')[-1][1:-1].replace(\"'\",\"\").replace(' ','')\n",
    "    convoli.append(spl.split(','))"
   ]
  },
  {
   "cell_type": "code",
   "execution_count": 54,
   "metadata": {},
   "outputs": [],
   "source": [
    "# From the list of convo ids we will try build two lists one for 'questions' and the other for 'answers'.\n",
    "\n",
    "questions=[]\n",
    "answers=[]\n",
    "\n",
    "for conv in convoli:\n",
    "    k=len(conv)\n",
    "    for i in range(k-1):\n",
    "        questions.append(id2line[conv[i]])\n",
    "        answers.append(id2line[conv[i+1]])"
   ]
  },
  {
   "cell_type": "code",
   "execution_count": 73,
   "metadata": {},
   "outputs": [],
   "source": [
    "# Now for text cleaning\n",
    "\n",
    "def cleanText(text):\n",
    "    # text to lower case\n",
    "    text=text.lower()\n",
    "    # Now to make it easier for the ChatBot to learn we gonna use re to replace expression like \"i'm\" with \"i am\"\n",
    "    text=re.sub(r\"i'm\",\"i am\",text)\n",
    "    text=re.sub(r\"she's\",\"she is\",text)\n",
    "    text=re.sub(r\"he's\",\"he is\",text)\n",
    "    text=re.sub(r\"it's\",\"it is\",text)\n",
    "    text=re.sub(r\"that's\",\"that is\",text)\n",
    "    text=re.sub(r\"what's\",\"what is\",text)\n",
    "    text=re.sub(r\"where's\",\"where is\",text)\n",
    "    text=re.sub(r\"\\'ve\",\" have\",text)\n",
    "    text=re.sub(r\"\\'ll\",\" will\",text)\n",
    "    text=re.sub(r\"\\'d\",\" would\",text)\n",
    "    text=re.sub(r\"\\'re\",\" are\",text)\n",
    "    text=re.sub(r\"won't\",\"would not\",text)\n",
    "    text=re.sub(r\"\\n't\",\" not\",text)\n",
    "    text=re.sub(r\"cannot\",\"can not\",text)\n",
    "    text=re.sub(r\"gonna\",\"going to\",text)\n",
    "    text=re.sub(r\"wanna\",\"want to\",text)\n",
    "    text=re.sub(r\"[-()/\\\"#$%^&*()_+@=?<>:;,.!{}|]\",\"\",text)\n",
    "    #Do as you can in here the better the cleaning the better the result\n",
    "    return(text)\n",
    "\n",
    "clean_questions=[cleanText(line) for line in questions]\n",
    "clean_answers=[cleanText(line) for line in answers]"
   ]
  },
  {
   "cell_type": "code",
   "execution_count": 183,
   "metadata": {},
   "outputs": [
    {
     "name": "stdout",
     "output_type": "stream",
     "text": [
      "0:00:04.046888\n"
     ]
    }
   ],
   "source": [
    "# In order to optimize our ChatBot training we will try to remove infrequent words from both questions and answers lists.\n",
    "# So the first step to do that is to generate a dictionnary that maps word to their cardinality within the dataset. \n",
    "\n",
    "start=datetime.datetime.now()\n",
    "wordOccur={}\n",
    "for question in clean_questions:\n",
    "    l=question.split()\n",
    "    for i in range (len(l)) :\n",
    "        if (l[i] in wordOccur.keys() and l.count(l[i])==1):\n",
    "            wordOccur[l[i]]+=l.count(l[i])\n",
    "        else:\n",
    "            wordOccur[l[i]]=l.count(l[i])\n",
    "end=datetime.datetime.now()\n",
    "print(end-start)"
   ]
  },
  {
   "cell_type": "code",
   "execution_count": 184,
   "metadata": {},
   "outputs": [
    {
     "name": "stdout",
     "output_type": "stream",
     "text": [
      "0:00:01.299222\n"
     ]
    }
   ],
   "source": [
    "start=datetime.datetime.now()\n",
    "wordOccur={}\n",
    "for question in clean_questions:\n",
    "    l=question.split()\n",
    "    for i in range (len(l)) :\n",
    "        if l[i] in wordOccur.keys():\n",
    "            wordOccur[l[i]]+=1\n",
    "        else:\n",
    "            wordOccur[l[i]]=1\n",
    "end=datetime.datetime.now()\n",
    "print(end-start)"
   ]
  },
  {
   "cell_type": "code",
   "execution_count": 115,
   "metadata": {},
   "outputs": [],
   "source": [
    "l=[0,1,2,3]"
   ]
  },
  {
   "cell_type": "code",
   "execution_count": 117,
   "metadata": {},
   "outputs": [
    {
     "data": {
      "text/plain": [
       "[0, 1, 2]"
      ]
     },
     "execution_count": 117,
     "metadata": {},
     "output_type": "execute_result"
    }
   ],
   "source": [
    "l[0:-1]"
   ]
  },
  {
   "cell_type": "code",
   "execution_count": 165,
   "metadata": {},
   "outputs": [],
   "source": [
    "a='je suis je suis tu es tu'\n",
    "e=a.split()\n",
    "dict1={}\n",
    "dict2={}\n",
    "for i in range (len(e)):\n",
    "    dict1[e[i]]=0\n",
    "    for j in range (len(e)):\n",
    "        if (e[j]==e[i]):\n",
    "            dict1[e[i]]+=1\n",
    "            if e[i] not in dict2.keys():\n",
    "                dict2[e[i]]=min(i,j)"
   ]
  },
  {
   "cell_type": "code",
   "execution_count": 166,
   "metadata": {},
   "outputs": [
    {
     "data": {
      "text/plain": [
       "{'es': 1, 'je': 2, 'suis': 2, 'tu': 2}"
      ]
     },
     "execution_count": 166,
     "metadata": {},
     "output_type": "execute_result"
    }
   ],
   "source": [
    "dict1"
   ]
  },
  {
   "cell_type": "code",
   "execution_count": 167,
   "metadata": {},
   "outputs": [
    {
     "data": {
      "text/plain": [
       "{'es': 5, 'je': 0, 'suis': 1, 'tu': 4}"
      ]
     },
     "execution_count": 167,
     "metadata": {},
     "output_type": "execute_result"
    }
   ],
   "source": [
    "dict2"
   ]
  },
  {
   "cell_type": "code",
   "execution_count": 155,
   "metadata": {},
   "outputs": [
    {
     "data": {
      "text/plain": [
       "0"
      ]
     },
     "execution_count": 155,
     "metadata": {},
     "output_type": "execute_result"
    }
   ],
   "source": [
    "min(0,2)"
   ]
  },
  {
   "cell_type": "code",
   "execution_count": null,
   "metadata": {},
   "outputs": [],
   "source": []
  }
 ],
 "metadata": {
  "kernelspec": {
   "display_name": "Python 3",
   "language": "python",
   "name": "python3"
  },
  "language_info": {
   "codemirror_mode": {
    "name": "ipython",
    "version": 3
   },
   "file_extension": ".py",
   "mimetype": "text/x-python",
   "name": "python",
   "nbconvert_exporter": "python",
   "pygments_lexer": "ipython3",
   "version": "3.5.5"
  }
 },
 "nbformat": 4,
 "nbformat_minor": 2
}
